{
 "cells": [
  {
   "cell_type": "markdown",
   "metadata": {},
   "source": [
    "# LAB | Regular Expressions (Regex) in Python"
   ]
  },
  {
   "cell_type": "markdown",
   "metadata": {},
   "source": [
    "## Overview\n",
    "This exercise notebook will help you practice using regular expressions in Python. Regular expressions are powerful tools for matching patterns in strings, which can be useful for validation, searching, and data manipulation.\n",
    "\n",
    "## Instructions\n",
    "- Complete each exercise by writing the appropriate regex pattern and Python code in the provided space.\n",
    "- Test your code to ensure it works as expected.\n",
    "<!-- - Use the hints provided if you get stuck. -->"
   ]
  },
  {
   "cell_type": "markdown",
   "metadata": {},
   "source": [
    "### Exercise 1: Match Email Addresses\n",
    "Write a regex pattern to match valid email addresses. An email address should contain an '@' symbol and a domain."
   ]
  },
  {
   "cell_type": "code",
   "metadata": {
    "ExecuteTime": {
     "end_time": "2025-10-27T13:31:13.143523Z",
     "start_time": "2025-10-27T13:31:13.116597Z"
    }
   },
   "source": [
    "import re\n",
    "\n",
    "# Example input\n",
    "email = \"example@example.com\"\n",
    "\n",
    "# Your regex pattern here\n",
    "pattern = r\"[a-z]+\\@[a-z]+\\.com\"\n",
    "\n",
    "# Test the regex\n",
    "if re.match(pattern, email):\n",
    "    print(\"Valid email\")\n",
    "else:\n",
    "    print(\"Invalid email\")"
   ],
   "outputs": [
    {
     "name": "stdout",
     "output_type": "stream",
     "text": [
      "Valid email\n"
     ]
    }
   ],
   "execution_count": 1
  },
  {
   "cell_type": "markdown",
   "metadata": {},
   "source": [
    "### Exercise 2: Validate Phone Numbers\n",
    "Create a regex pattern to validate phone numbers in the format (123) 456-7890 or 123-456-7890."
   ]
  },
  {
   "cell_type": "code",
   "metadata": {
    "ExecuteTime": {
     "end_time": "2025-10-27T13:39:14.328789Z",
     "start_time": "2025-10-27T13:39:14.311269Z"
    }
   },
   "source": [
    "import re\n",
    "\n",
    "# Example input\n",
    "phone_number = \"(123) 456-7890\"\n",
    "\n",
    "# Your regex pattern here\n",
    "pattern = r\"^\\([0-9]{3}\\)\\s[0-9]{3}-[0-9]{4}\"\n",
    "\n",
    "# Test the regex\n",
    "if re.match(pattern, phone_number):\n",
    "    print(\"Valid phone number\")\n",
    "else:\n",
    "    print(\"Invalid phone number\")"
   ],
   "outputs": [
    {
     "name": "stdout",
     "output_type": "stream",
     "text": [
      "Valid phone number\n"
     ]
    }
   ],
   "execution_count": 8
  },
  {
   "cell_type": "markdown",
   "metadata": {},
   "source": [
    "### Exercise 3: Extract Dates\n",
    "Write a regex pattern to extract dates in the format YYYY-MM-DD from a string."
   ]
  },
  {
   "cell_type": "code",
   "metadata": {
    "ExecuteTime": {
     "end_time": "2025-10-27T13:48:07.797887Z",
     "start_time": "2025-10-27T13:48:07.771374Z"
    }
   },
   "source": [
    "import re\n",
    "\n",
    "# Example input\n",
    "text = \"The event is scheduled for 2024-12-25.\"\n",
    "\n",
    "# Your regex pattern here\n",
    "pattern = r\"\\d{4}-\\d{2}-\\d{2}\"\n",
    "\n",
    "# Find all matches\n",
    "dates = re.findall(pattern, text)\n",
    "print(dates)"
   ],
   "outputs": [
    {
     "name": "stdout",
     "output_type": "stream",
     "text": [
      "['2024-12-25']\n"
     ]
    }
   ],
   "execution_count": 20
  },
  {
   "cell_type": "markdown",
   "metadata": {},
   "source": [
    "### Exercise 4: Match URLs\n",
    "Create a regex pattern to match URLs that start with http:// or https://."
   ]
  },
  {
   "cell_type": "code",
   "metadata": {
    "ExecuteTime": {
     "end_time": "2025-10-27T13:49:33.703610Z",
     "start_time": "2025-10-27T13:49:33.691853Z"
    }
   },
   "source": [
    "import re\n",
    "\n",
    "# Example input\n",
    "url = \"https://www.example.com\"\n",
    "\n",
    "# Your regex pattern here\n",
    "pattern = r\"^https://www.[a-z]*\\.com\"\n",
    "\n",
    "# Test the regex\n",
    "if re.match(pattern, url):\n",
    "    print(\"Valid URL\")\n",
    "else:\n",
    "    print(\"Invalid URL\")"
   ],
   "outputs": [
    {
     "name": "stdout",
     "output_type": "stream",
     "text": [
      "Valid URL\n"
     ]
    }
   ],
   "execution_count": 21
  },
  {
   "cell_type": "markdown",
   "metadata": {},
   "source": [
    "### Exercise 5: Find Words Starting with a Specific Letter\n",
    "Write a regex pattern to find all words starting with the letter 'a' in a given string."
   ]
  },
  {
   "cell_type": "code",
   "metadata": {
    "ExecuteTime": {
     "end_time": "2025-10-27T13:52:51.735884Z",
     "start_time": "2025-10-27T13:52:51.710325Z"
    }
   },
   "source": [
    "import re\n",
    "\n",
    "# Example input\n",
    "text = \"A quick brown fox jumps over a lazy dog.\"\n",
    "\n",
    "# Your regex pattern here\n",
    "pattern = r\"\\b[aA]\\w*\\b\"\n",
    "# Find all matches\n",
    "words = re.findall(pattern, text)\n",
    "print(words)"
   ],
   "outputs": [
    {
     "name": "stdout",
     "output_type": "stream",
     "text": [
      "['A', 'a']\n"
     ]
    }
   ],
   "execution_count": 26
  },
  {
   "cell_type": "markdown",
   "metadata": {},
   "source": [
    "### Exercise 6: Match Hexadecimal Colors\n",
    "Create a regex pattern to match hexadecimal color codes (e.g., #FFFFFF)."
   ]
  },
  {
   "cell_type": "code",
   "metadata": {
    "ExecuteTime": {
     "end_time": "2025-10-27T13:56:07.244928Z",
     "start_time": "2025-10-27T13:56:07.203262Z"
    }
   },
   "source": [
    "import re\n",
    "\n",
    "# Example input\n",
    "color_code = \"#FFFFFF\"\n",
    "\n",
    "# Your regex pattern here\n",
    "pattern = r\"#([A-Fa-f0-9]{6}|[A-Fa-f0-9]{3})\"\n",
    "\n",
    "# Test the regex\n",
    "if re.match(pattern, color_code):\n",
    "    print(\"Valid hex color code\")\n",
    "else:\n",
    "    print(\"Invalid hex color code\")"
   ],
   "outputs": [
    {
     "name": "stdout",
     "output_type": "stream",
     "text": [
      "Valid hex color code\n"
     ]
    }
   ],
   "execution_count": 28
  },
  {
   "cell_type": "markdown",
   "metadata": {},
   "source": [
    "### Exercise 7: Validate Passwords \n",
    "Write a regex pattern to validate passwords that must be at least 8 characters long and contain at least one uppercase letter, one lowercase letter, one digit, and one special character."
   ]
  },
  {
   "cell_type": "code",
   "metadata": {
    "ExecuteTime": {
     "end_time": "2025-10-27T13:57:24.906551Z",
     "start_time": "2025-10-27T13:57:24.869562Z"
    }
   },
   "source": [
    "import re\n",
    "\n",
    "# Example input\n",
    "password = \"Password123!\"\n",
    "\n",
    "# Your regex pattern here\n",
    "pattern = r\"^(?=.*[a-z])(?=.*[A-Z])(?=.*\\d)(?=.*[@$!%*?&])[A-Za-z\\d@$!%*?&]{8,}$\"\n",
    "\n",
    "# Test the regex\n",
    "if re.match(pattern, password):\n",
    "    print(\"Valid password\")\n",
    "else:\n",
    "    print(\"Invalid password\")"
   ],
   "outputs": [
    {
     "name": "stdout",
     "output_type": "stream",
     "text": [
      "Valid password\n"
     ]
    }
   ],
   "execution_count": 29
  },
  {
   "cell_type": "markdown",
   "metadata": {},
   "source": [
    "### Exercise 8: Remove Extra Spaces \n",
    "Create a regex pattern that removes extra spaces from a string while keeping single spaces between words."
   ]
  },
  {
   "cell_type": "code",
   "metadata": {
    "ExecuteTime": {
     "end_time": "2025-10-27T13:58:59.012753Z",
     "start_time": "2025-10-27T13:58:58.974571Z"
    }
   },
   "source": [
    "import re\n",
    "\n",
    "# Example input\n",
    "text = \"This   is   an   example.\"\n",
    "\n",
    "# Your regex pattern here\n",
    "pattern = r\"\\s+\"\n",
    "\n",
    "# Replace extra spaces\n",
    "cleaned_text = re.sub(pattern, \" \", text)\n",
    "print(cleaned_text)"
   ],
   "outputs": [
    {
     "name": "stdout",
     "output_type": "stream",
     "text": [
      "This is an example.\n"
     ]
    }
   ],
   "execution_count": 31
  },
  {
   "cell_type": "markdown",
   "metadata": {},
   "source": [
    "### Exercise 9: Match IP Addresses \n",
    "Write a regex pattern to match valid IPv4 addresses."
   ]
  },
  {
   "cell_type": "code",
   "metadata": {
    "ExecuteTime": {
     "end_time": "2025-10-27T14:02:15.430537Z",
     "start_time": "2025-10-27T14:02:15.400533Z"
    }
   },
   "source": [
    "import re\n",
    "\n",
    "# Example input\n",
    "ip_address = \"192.168.1.1\"\n",
    "\n",
    "# Your regex pattern here\n",
    "pattern = r\"\\b((25[0-5]|2[0-4]\\d|1\\d\\d|[1-9]?\\d)\\.){3}(25[0-5]|2[0-4]\\d|1\\d\\d|[1-9]?\\d)\\b\"\n",
    "\n",
    "# Test the regex\n",
    "if re.match(pattern, ip_address):\n",
    "    print(\"Valid IP address\")\n",
    "else:\n",
    "    print(\"Invalid IP address\")"
   ],
   "outputs": [
    {
     "name": "stdout",
     "output_type": "stream",
     "text": [
      "Valid IP address\n"
     ]
    }
   ],
   "execution_count": 34
  },
  {
   "cell_type": "markdown",
   "metadata": {},
   "source": [
    "### Exercise 10: Extract Hashtags \n",
    "Create a regex pattern to extract hashtags from a string."
   ]
  },
  {
   "cell_type": "code",
   "metadata": {
    "ExecuteTime": {
     "end_time": "2025-10-27T14:03:27.329090Z",
     "start_time": "2025-10-27T14:03:27.312583Z"
    }
   },
   "source": [
    "import re\n",
    "\n",
    "# Example input\n",
    "text = \"Here are some hashtags: #Python #Regex #Coding.\"\n",
    "\n",
    "# Your regex pattern here\n",
    "pattern = r\"#\\w+\"\n",
    "\n",
    "# Find all matches\n",
    "hashtags = re.findall(pattern, text)\n",
    "print(hashtags)"
   ],
   "outputs": [
    {
     "name": "stdout",
     "output_type": "stream",
     "text": [
      "['#Python', '#Regex', '#Coding']\n"
     ]
    }
   ],
   "execution_count": 36
  },
  {
   "cell_type": "markdown",
   "metadata": {},
   "source": [
    "## Bonus Exercises\n"
   ]
  },
  {
   "cell_type": "markdown",
   "metadata": {},
   "source": [
    "\n",
    "### Bonus Exercise 1: Match All Digits \n",
    "Write a regex pattern to match all digits in a given string."
   ]
  },
  {
   "cell_type": "code",
   "metadata": {
    "ExecuteTime": {
     "end_time": "2025-10-27T14:03:50.414500Z",
     "start_time": "2025-10-27T14:03:50.394288Z"
    }
   },
   "source": [
    "import re\n",
    "\n",
    "# Example input\n",
    "text = \"There are 2 apples and 3 oranges.\"\n",
    "\n",
    "# Your regex pattern here\n",
    "pattern = r\"\\d+\"\n",
    "\n",
    "# Find all matches\n",
    "digits = re.findall(pattern, text)\n",
    "print(digits)"
   ],
   "outputs": [
    {
     "name": "stdout",
     "output_type": "stream",
     "text": [
      "['2', '3']\n"
     ]
    }
   ],
   "execution_count": 37
  },
  {
   "cell_type": "markdown",
   "metadata": {},
   "source": [
    "### Bonus Exercise 2: Validate Credit Card Numbers  \n",
    "Create a regex pattern to validate credit card numbers (16 digits)."
   ]
  },
  {
   "cell_type": "code",
   "metadata": {
    "ExecuteTime": {
     "end_time": "2025-10-27T14:04:49.104220Z",
     "start_time": "2025-10-27T14:04:49.080006Z"
    }
   },
   "source": [
    "import re\n",
    "\n",
    "# Example input\n",
    "credit_card_number = \"1234-5678-9876-5432\"\n",
    "\n",
    "# Your regex pattern here\n",
    "pattern = r\"\\d{4}-\\d{4}-\\d{4}-\\d{4}\"\n",
    "\n",
    "# Test the regex\n",
    "if re.match(pattern, credit_card_number):\n",
    "    print(\"Valid credit card number\")\n",
    "else:\n",
    "    print(\"Invalid credit card number\")"
   ],
   "outputs": [
    {
     "name": "stdout",
     "output_type": "stream",
     "text": [
      "Valid credit card number\n"
     ]
    }
   ],
   "execution_count": 38
  },
  {
   "cell_type": "markdown",
   "metadata": {},
   "source": [
    "### Bonus Exercise 3: Match Non-Alphanumeric Characters  \n",
    "Write a regex pattern to match non-alphanumeric characters in a string."
   ]
  },
  {
   "cell_type": "code",
   "metadata": {
    "ExecuteTime": {
     "end_time": "2025-10-27T14:05:48.191158Z",
     "start_time": "2025-10-27T14:05:48.142380Z"
    }
   },
   "source": [
    "import re\n",
    "\n",
    "# Example input\n",
    "text = \"Hello! How are you? @Python3.\"\n",
    "\n",
    "# Your regex pattern here\n",
    "pattern = r\"[^a-zA-Z0-9]\"\n",
    "\n",
    "# Find all matches\n",
    "non_alphanumeric_chars = re.findall(pattern, text)\n",
    "print(non_alphanumeric_chars)"
   ],
   "outputs": [
    {
     "name": "stdout",
     "output_type": "stream",
     "text": [
      "['!', ' ', ' ', ' ', '?', ' ', '@', '.']\n"
     ]
    }
   ],
   "execution_count": 39
  },
  {
   "cell_type": "markdown",
   "metadata": {},
   "source": [
    "### Bonus Exercise 4: Validate Date Format  \n",
    "Create a regex pattern to validate dates in the format DD/MM/YYYY."
   ]
  },
  {
   "cell_type": "code",
   "metadata": {
    "ExecuteTime": {
     "end_time": "2025-10-27T14:07:50.296494Z",
     "start_time": "2025-10-27T14:07:50.256005Z"
    }
   },
   "source": [
    "import re\n",
    "\n",
    "# Example input\n",
    "date_string = \"25/12/2024\"\n",
    "\n",
    "# Your regex pattern here\n",
    "pattern = r\"^\\d{2}/\\d{2}/\\d{4}$\"\n",
    "\n",
    "# Test the regex\n",
    "if re.match(pattern, date_string):\n",
    "    print(\"Valid date format\")\n",
    "else:\n",
    "    print(\"Invalid date format\")"
   ],
   "outputs": [
    {
     "name": "stdout",
     "output_type": "stream",
     "text": [
      "Valid date format\n"
     ]
    }
   ],
   "execution_count": 42
  },
  {
   "cell_type": "markdown",
   "metadata": {},
   "source": [
    "### Bonus Exercise 5: Extract Email Domains  \n",
    "Write a regex pattern to extract domains from email addresses."
   ]
  },
  {
   "cell_type": "code",
   "metadata": {
    "ExecuteTime": {
     "end_time": "2025-10-27T14:10:34.982360Z",
     "start_time": "2025-10-27T14:10:34.945719Z"
    }
   },
   "source": [
    "import re\n",
    "\n",
    "# Example input\n",
    "email_list = [\"user@example.com\", \"admin@domain.org\"]\n",
    "\n",
    "# Your regex pattern here\n",
    "pattern = r\"@([\\w.-]+)\"\n",
    "\n",
    "for email in email_list:\n",
    "    domain = re.search(pattern, email)\n",
    "    if domain:\n",
    "        print(domain)  # Print extracted domain part."
   ],
   "outputs": [
    {
     "name": "stdout",
     "output_type": "stream",
     "text": [
      "<re.Match object; span=(4, 16), match='@example.com'>\n",
      "<re.Match object; span=(5, 16), match='@domain.org'>\n"
     ]
    }
   ],
   "execution_count": 45
  },
  {
   "cell_type": "markdown",
   "metadata": {},
   "source": [
    "### Exercise Completion  \n",
    "Once you have completed all exercises:\n",
    "- Review your solutions.\n",
    "- Ensure your regular expressions and Python code are well-documented with comments explaining your logic.\n",
    "- Save your notebook for submission or further review.\n",
    "\n",
    "Happy coding! Enjoy practicing Regular Expressions in Python!"
   ]
  }
 ],
 "metadata": {
  "kernelspec": {
   "display_name": ".venv",
   "language": "python",
   "name": "python3"
  },
  "language_info": {
   "codemirror_mode": {
    "name": "ipython",
    "version": 3
   },
   "file_extension": ".py",
   "mimetype": "text/x-python",
   "name": "python",
   "nbconvert_exporter": "python",
   "pygments_lexer": "ipython3",
   "version": "3.8.0"
  }
 },
 "nbformat": 4,
 "nbformat_minor": 2
}
